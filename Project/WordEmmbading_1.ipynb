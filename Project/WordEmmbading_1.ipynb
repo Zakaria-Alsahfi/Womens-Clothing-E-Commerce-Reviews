{
 "cells": [
  {
   "cell_type": "code",
   "execution_count": 1,
   "metadata": {},
   "outputs": [
    {
     "name": "stderr",
     "output_type": "stream",
     "text": [
      "Using TensorFlow backend.\n",
      "/opt/anaconda3/envs/tensorflow/lib/python3.6/site-packages/tensorflow/python/framework/dtypes.py:516: FutureWarning: Passing (type, 1) or '1type' as a synonym of type is deprecated; in a future version of numpy, it will be understood as (type, (1,)) / '(1,)type'.\n",
      "  _np_qint8 = np.dtype([(\"qint8\", np.int8, 1)])\n",
      "/opt/anaconda3/envs/tensorflow/lib/python3.6/site-packages/tensorflow/python/framework/dtypes.py:517: FutureWarning: Passing (type, 1) or '1type' as a synonym of type is deprecated; in a future version of numpy, it will be understood as (type, (1,)) / '(1,)type'.\n",
      "  _np_quint8 = np.dtype([(\"quint8\", np.uint8, 1)])\n",
      "/opt/anaconda3/envs/tensorflow/lib/python3.6/site-packages/tensorflow/python/framework/dtypes.py:518: FutureWarning: Passing (type, 1) or '1type' as a synonym of type is deprecated; in a future version of numpy, it will be understood as (type, (1,)) / '(1,)type'.\n",
      "  _np_qint16 = np.dtype([(\"qint16\", np.int16, 1)])\n",
      "/opt/anaconda3/envs/tensorflow/lib/python3.6/site-packages/tensorflow/python/framework/dtypes.py:519: FutureWarning: Passing (type, 1) or '1type' as a synonym of type is deprecated; in a future version of numpy, it will be understood as (type, (1,)) / '(1,)type'.\n",
      "  _np_quint16 = np.dtype([(\"quint16\", np.uint16, 1)])\n",
      "/opt/anaconda3/envs/tensorflow/lib/python3.6/site-packages/tensorflow/python/framework/dtypes.py:520: FutureWarning: Passing (type, 1) or '1type' as a synonym of type is deprecated; in a future version of numpy, it will be understood as (type, (1,)) / '(1,)type'.\n",
      "  _np_qint32 = np.dtype([(\"qint32\", np.int32, 1)])\n",
      "/opt/anaconda3/envs/tensorflow/lib/python3.6/site-packages/tensorflow/python/framework/dtypes.py:525: FutureWarning: Passing (type, 1) or '1type' as a synonym of type is deprecated; in a future version of numpy, it will be understood as (type, (1,)) / '(1,)type'.\n",
      "  np_resource = np.dtype([(\"resource\", np.ubyte, 1)])\n",
      "/opt/anaconda3/envs/tensorflow/lib/python3.6/site-packages/tensorboard/compat/tensorflow_stub/dtypes.py:541: FutureWarning: Passing (type, 1) or '1type' as a synonym of type is deprecated; in a future version of numpy, it will be understood as (type, (1,)) / '(1,)type'.\n",
      "  _np_qint8 = np.dtype([(\"qint8\", np.int8, 1)])\n",
      "/opt/anaconda3/envs/tensorflow/lib/python3.6/site-packages/tensorboard/compat/tensorflow_stub/dtypes.py:542: FutureWarning: Passing (type, 1) or '1type' as a synonym of type is deprecated; in a future version of numpy, it will be understood as (type, (1,)) / '(1,)type'.\n",
      "  _np_quint8 = np.dtype([(\"quint8\", np.uint8, 1)])\n",
      "/opt/anaconda3/envs/tensorflow/lib/python3.6/site-packages/tensorboard/compat/tensorflow_stub/dtypes.py:543: FutureWarning: Passing (type, 1) or '1type' as a synonym of type is deprecated; in a future version of numpy, it will be understood as (type, (1,)) / '(1,)type'.\n",
      "  _np_qint16 = np.dtype([(\"qint16\", np.int16, 1)])\n",
      "/opt/anaconda3/envs/tensorflow/lib/python3.6/site-packages/tensorboard/compat/tensorflow_stub/dtypes.py:544: FutureWarning: Passing (type, 1) or '1type' as a synonym of type is deprecated; in a future version of numpy, it will be understood as (type, (1,)) / '(1,)type'.\n",
      "  _np_quint16 = np.dtype([(\"quint16\", np.uint16, 1)])\n",
      "/opt/anaconda3/envs/tensorflow/lib/python3.6/site-packages/tensorboard/compat/tensorflow_stub/dtypes.py:545: FutureWarning: Passing (type, 1) or '1type' as a synonym of type is deprecated; in a future version of numpy, it will be understood as (type, (1,)) / '(1,)type'.\n",
      "  _np_qint32 = np.dtype([(\"qint32\", np.int32, 1)])\n",
      "/opt/anaconda3/envs/tensorflow/lib/python3.6/site-packages/tensorboard/compat/tensorflow_stub/dtypes.py:550: FutureWarning: Passing (type, 1) or '1type' as a synonym of type is deprecated; in a future version of numpy, it will be understood as (type, (1,)) / '(1,)type'.\n",
      "  np_resource = np.dtype([(\"resource\", np.ubyte, 1)])\n"
     ]
    }
   ],
   "source": [
    "import pandas as pd\n",
    "from keras.preprocessing.text import one_hot\n",
    "from keras.preprocessing.sequence import pad_sequences\n",
    "from keras.models import Sequential\n",
    "from keras.layers import Dense\n",
    "from keras.layers import Flatten\n",
    "from keras.layers.embeddings import Embedding\n",
    "from sklearn.model_selection import train_test_split\n",
    "%matplotlib inline"
   ]
  },
  {
   "cell_type": "code",
   "execution_count": 2,
   "metadata": {},
   "outputs": [
    {
     "data": {
      "text/plain": [
       "'       Clothing ID  Age                                              Title  \\\\\\n18342         1092   43            Light weight, pockets, great for summer   \\n512           1078   49  Cute but skip the petite unless you are very s...   \\n8334          1047   38                                            Perfect   \\n22294         1077   58                                           Love it!   \\n2883           829   69                                            Love it   \\n...            ...  ...                                                ...   \\n5714           880   39                                                NaN   \\n22500         1098   57                            Embroidered masterpiece   \\n16279         1078   38                      Gorgeous dress - spectacular!   \\n18535           24   29                                 Super unflattering   \\n17363          912   51                                        Lint magnet   \\n\\n                                             Review Text  Rating  \\\\\\n18342  I run 170lbs., 36 d, 5\\'4\" and ordered a regula...       5   \\n512    Beautiful colors, especially the pink. i am 5\\'...       5   \\n8334   I love these pants! waited for them to go on s...       5   \\n22294  I would absolutely recommend this dress if you...       4   \\n2883   I love this top! i was thinking that i was goi...       5   \\n...                                                  ...     ...   \\n5714   This shirt runs extremely large. looks boxy an...       3   \\n22500  This dress is so beautifully embroidered with ...       5   \\n16279  This dress is a beauty. i am 5\\'11\" and plan to...       5   \\n18535  I\\'m 5\\' 5\", 150 lbs, 32dd, normally a 28p or 29...       2   \\n17363  So sad becuase i like the design. i would not ...       2   \\n\\n       Recommended IND  Positive Feedback Count   Division Name  \\\\\\n18342                1                       13  General Petite   \\n512                  1                        3         General   \\n8334                 1                        0  General Petite   \\n22294                1                        0  General Petite   \\n2883                 1                        1  General Petite   \\n...                ...                      ...             ...   \\n5714                 0                        0         General   \\n22500                1                        1         General   \\n16279                1                        0  General Petite   \\n18535                0                        0       Initmates   \\n17363                0                        2         General   \\n\\n      Department Name  Class Name  \\n18342         Dresses     Dresses  \\n512           Dresses     Dresses  \\n8334          Bottoms       Pants  \\n22294         Dresses     Dresses  \\n2883             Tops     Blouses  \\n...               ...         ...  \\n5714             Tops       Knits  \\n22500         Dresses     Dresses  \\n16279         Dresses     Dresses  \\n18535        Intimate        Swim  \\n17363            Tops  Fine gauge  \\n\\n[18788 rows x 10 columns]'"
      ]
     },
     "execution_count": 2,
     "metadata": {},
     "output_type": "execute_result"
    }
   ],
   "source": [
    "filename = r'Womens Clothing E-Commerce Reviews.csv'\n",
    "WomensClothing= pd.read_csv(filename,encoding='latin-1')\n",
    "WomensClothing['Review Text'] = WomensClothing['Review Text'].astype(str)\n",
    "train, test = train_test_split(WomensClothing, test_size=0.20, random_state=2019, stratify = WomensClothing[['Recommended IND']])\n",
    "labels = train['Recommended IND']\n",
    "str(train)"
   ]
  },
  {
   "cell_type": "code",
   "execution_count": 3,
   "metadata": {},
   "outputs": [
    {
     "name": "stdout",
     "output_type": "stream",
     "text": [
      "20000\n"
     ]
    }
   ],
   "source": [
    "vocab_size = 10000\n",
    "encoded_docs=[]\n",
    "index = 1\n",
    "for index, row in train.iterrows():\n",
    "    if index % 10000 ==0:\n",
    "        print(index)\n",
    "    # take out the esentiment text\n",
    "    text = row['Review Text']\n",
    "    encoded_docs.append(one_hot(text, vocab_size))"
   ]
  },
  {
   "cell_type": "code",
   "execution_count": 4,
   "metadata": {},
   "outputs": [
    {
     "name": "stdout",
     "output_type": "stream",
     "text": [
      "[[7953 4197  534 ...    0    0    0]\n",
      " [3421 2002 5064 ...    0    0    0]\n",
      " [7953 9119 4448 ...    0    0    0]\n",
      " ...\n",
      " [2735 8635 6907 ...    0    0    0]\n",
      " [1409 8101 3212 ...    0    0    0]\n",
      " [4747 6127 5164 ...    0    0    0]]\n"
     ]
    }
   ],
   "source": [
    "max_length = len(max(encoded_docs,key=len))\n",
    "max_length\n",
    "#make sure all the items have the uniform length\n",
    "padded_docs = pad_sequences(encoded_docs, maxlen=max_length, padding='post')\n",
    "print(padded_docs)"
   ]
  },
  {
   "cell_type": "code",
   "execution_count": 12,
   "metadata": {},
   "outputs": [
    {
     "name": "stdout",
     "output_type": "stream",
     "text": [
      "_________________________________________________________________\n",
      "Layer (type)                 Output Shape              Param #   \n",
      "=================================================================\n",
      "embedding_2 (Embedding)      (None, 116, 50)           500000    \n",
      "_________________________________________________________________\n",
      "flatten_2 (Flatten)          (None, 5800)              0         \n",
      "_________________________________________________________________\n",
      "dense_2 (Dense)              (None, 1)                 5801      \n",
      "=================================================================\n",
      "Total params: 505,801\n",
      "Trainable params: 505,801\n",
      "Non-trainable params: 0\n",
      "_________________________________________________________________\n",
      "Epoch 1/10\n",
      " - 4s - loss: 0.3536 - acc: 0.8520\n",
      "Epoch 2/10\n",
      " - 4s - loss: 0.2207 - acc: 0.9098\n",
      "Epoch 3/10\n",
      " - 4s - loss: 0.1609 - acc: 0.9403\n",
      "Epoch 4/10\n",
      " - 4s - loss: 0.1067 - acc: 0.9682\n",
      "Epoch 5/10\n",
      " - 4s - loss: 0.0670 - acc: 0.9842\n",
      "Epoch 6/10\n",
      " - 4s - loss: 0.0441 - acc: 0.9916\n",
      "Epoch 7/10\n",
      " - 4s - loss: 0.0313 - acc: 0.9944\n",
      "Epoch 8/10\n",
      " - 4s - loss: 0.0239 - acc: 0.9956\n",
      "Epoch 9/10\n",
      " - 4s - loss: 0.0192 - acc: 0.9964\n",
      "Epoch 10/10\n",
      " - 4s - loss: 0.0166 - acc: 0.9964\n"
     ]
    },
    {
     "data": {
      "text/plain": [
       "<keras.callbacks.History at 0x1a4177ed68>"
      ]
     },
     "execution_count": 12,
     "metadata": {},
     "output_type": "execute_result"
    }
   ],
   "source": [
    "epoch=10\n",
    "model = Sequential()\n",
    "#specify the vocab size, dimensionality of the word embedding spaces\n",
    "model.add(Embedding(vocab_size, 50, input_length=max_length))\n",
    "#then we map the matrices to one-dimensional vector by calling flatten() funciton\n",
    "model.add(Flatten())\n",
    "#binary classifiction, 1 neuron, activation sigmoid; produce probablity\n",
    "model.add(Dense(1, activation='sigmoid'))\n",
    "# compile the model\n",
    "#binary classifiction, loss = 'binary_crossentropy'\n",
    "model.compile(optimizer='adam', loss='binary_crossentropy', metrics=['acc'])\n",
    "# summarize the model\n",
    "model.summary()\n",
    "# fit the model\n",
    "#1st argument is the features/predictors/Xs; 2nd is the label/target/Ys\n",
    "#ecpochs: pass the whole data to the Neural net work for 50 times\n",
    "#verbose = 0; don't print anything\n",
    "#verbose = 1; print key outputs\n",
    "#vervose = 2; print all the info \n",
    "model.fit(padded_docs, labels, epochs=epoch, verbose=2)"
   ]
  },
  {
   "cell_type": "code",
   "execution_count": 13,
   "metadata": {},
   "outputs": [
    {
     "name": "stdout",
     "output_type": "stream",
     "text": [
      "0\n",
      "10000\n"
     ]
    }
   ],
   "source": [
    "encoded_docs_test=[]\n",
    "\n",
    "for index, row in test.iterrows():\n",
    "    if index % 10000 ==0:\n",
    "        print(index)\n",
    "    text = row['Review Text']\n",
    "\n",
    "    encoded_docs_test.append(one_hot(text, vocab_size))"
   ]
  },
  {
   "cell_type": "code",
   "execution_count": 23,
   "metadata": {},
   "outputs": [
    {
     "name": "stdout",
     "output_type": "stream",
     "text": [
      "[[2735 6907 2673 ...    0    0    0]\n",
      " [ 421 4475 8879 ...    0    0    0]\n",
      " [7325 2735 8635 ...    0    0    0]\n",
      " ...\n",
      " [7953 9119 2735 ...    0    0    0]\n",
      " [1344 6867 7953 ...    0    0    0]\n",
      " [7953 7574 8879 ...    0    0    0]]\n",
      "Accuracy: 89.016603\n"
     ]
    }
   ],
   "source": [
    "padded_docs_test = pad_sequences(encoded_docs_test, maxlen=max_length, padding='post')\n",
    "print(padded_docs_test)\n",
    "\n",
    "labels_test = test['Recommended IND']\n",
    "loss, accuracy = model.evaluate(padded_docs_test, labels_test, verbose=2)\n",
    "print('Accuracy: %f' % (accuracy*100))"
   ]
  },
  {
   "cell_type": "code",
   "execution_count": null,
   "metadata": {},
   "outputs": [],
   "source": []
  }
 ],
 "metadata": {
  "kernelspec": {
   "display_name": "Python 3",
   "language": "python",
   "name": "python3"
  },
  "language_info": {
   "codemirror_mode": {
    "name": "ipython",
    "version": 3
   },
   "file_extension": ".py",
   "mimetype": "text/x-python",
   "name": "python",
   "nbconvert_exporter": "python",
   "pygments_lexer": "ipython3",
   "version": "3.6.10"
  }
 },
 "nbformat": 4,
 "nbformat_minor": 2
}
